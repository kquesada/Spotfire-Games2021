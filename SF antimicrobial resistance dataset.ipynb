{
 "cells": [
  {
   "cell_type": "markdown",
   "metadata": {},
   "source": [
    "# 1. SF antimicrobial resistance dataset exploration\n",
    "\n",
    "## 1.1 Documentation\n",
    "\n",
    "1. [Exploring data with Pandas](https://realpython.com/pandas-python-explore-dataset/)\n",
    "\n",
    "## 1.2 Data\n",
    "1. [Antibiotic resistance](https://atlas.ecdc.europa.eu/public/index.aspx?Dataset=27&HealthTopic=4 )\n",
    "2. [Antibiotic consuming](https://data.europa.eu/euodp/en/data/dataset/antimicrobial-consumption-data/resource/f38b4302-077f-4397-889e-47593b78436c)"
   ]
  },
  {
   "cell_type": "markdown",
   "metadata": {},
   "source": [
    "### 1.2.1 Total antibiotic resistance data (ECDC)"
   ]
  },
  {
   "cell_type": "code",
   "execution_count": 2,
   "metadata": {},
   "outputs": [],
   "source": [
    "import pandas as pd\n",
    "\n",
    "df = pd.read_csv('ECDC_surveillance_data_Antimicrobial_resistance FULL.csv').drop(labels=['HealthTopic','TxtValue'],axis=1)\n",
    "pd.set_option(\"display.max.columns\", None)\n",
    "pd.set_option(\"display.precision\", 2)\n",
    "\n",
    "df['Time'] =  pd.to_datetime(df['Time'],format='%Y')\n",
    "new = df['Population'].str.split(\"|\", n = 1, expand = True)\n",
    "\n",
    "df['Bacteria'] = new[0]\n",
    "df['AntimicrobialGroup'] = new[1]\n",
    "\n",
    "df = df.drop(labels='Population',axis=1)\n",
    "\n",
    "df.head(10)\n",
    "\n",
    "df.to_csv('ECDC_clean.csv')"
   ]
  },
  {
   "cell_type": "code",
   "execution_count": 5,
   "metadata": {},
   "outputs": [
    {
     "name": "stdout",
     "output_type": "stream",
     "text": [
      "Indicator             0\n",
      "Unit                  0\n",
      "Time                  0\n",
      "RegionCode            0\n",
      "RegionName            0\n",
      "NumValue              0\n",
      "Bacteria              0\n",
      "AntimicrobialGroup    0\n",
      "dtype: int64\n"
     ]
    }
   ],
   "source": [
    "print(df.isnull().sum())\n"
   ]
  },
  {
   "cell_type": "code",
   "execution_count": 51,
   "metadata": {},
   "outputs": [
    {
     "name": "stdout",
     "output_type": "stream",
     "text": [
      "unique values col Bacteria : 8\n",
      "unique values col AntimicrobialGroup : 16\n",
      "unique values col Indicator : 8\n",
      "unique values col RegionCode : 30\n"
     ]
    }
   ],
   "source": [
    "print('unique values col Bacteria :',df['Bacteria'].nunique())\n",
    "print('unique values col AntimicrobialGroup :',df['AntimicrobialGroup'].nunique())\n",
    "print('unique values col Indicator :',df['Indicator'].nunique())\n",
    "print('unique values col RegionCode :',df['RegionCode'].nunique())"
   ]
  },
  {
   "cell_type": "markdown",
   "metadata": {},
   "source": [
    "### 1.2.2 Total antibiotic consumption, in community and hospital datasets"
   ]
  },
  {
   "cell_type": "code",
   "execution_count": 1,
   "metadata": {},
   "outputs": [],
   "source": [
    "import pandas as pd\n",
    "xls = pd.ExcelFile('ESAC_total.xlsx')\n",
    "esac1 = pd.read_excel(xls, 'Sheet1')\n",
    "esac2 = pd.read_excel(xls, 'Sheet2')\n",
    "\n",
    "esac1 = esac1.fillna(0)\n",
    "esac2 = esac2.fillna(0)\n",
    "\n",
    "esac1.to_csv('total_esac_community.csv')\n",
    "esac2.to_csv('total_esac_hospital.csv')"
   ]
  },
  {
   "cell_type": "markdown",
   "metadata": {},
   "source": [
    "### 1.2.3 Antibiotic consumption per group, in community dataset"
   ]
  },
  {
   "cell_type": "code",
   "execution_count": 75,
   "metadata": {},
   "outputs": [],
   "source": [
    "import pandas as pd\n",
    "\n",
    "def concatDataFrames(xls, fileName):\n",
    "    sheetNames = xls.sheet_names\n",
    "    complete_df = pd.DataFrame(columns=['Country', 'Year', 'Value','AntibioticGroup'])\n",
    "    for sheet in sheetNames:\n",
    "        # read each sheet and fill na with 0\n",
    "        df = pd.read_excel(xls, sheet).fillna(0)\n",
    "        # unpivot table\n",
    "        df = df.melt(id_vars=['Country'])\n",
    "        # add antibiotic group column\n",
    "        df['AntibioticGroup'] = sheet\n",
    "        # rename columns\n",
    "        df = df.rename(columns = {'variable': 'Year','value':'Value'}, inplace = False)\n",
    "        # concat the tables\n",
    "        complete_df = complete_df.append(df, ignore_index=True)\n",
    "        \n",
    "    complete_df.to_csv(fileName)\n",
    "\n",
    "\n",
    "xls1 = pd.ExcelFile('ESAC_antimicrobial_groups_community.xlsx')\n",
    "concatDataFrames(xls1,'esac_antimicrobial_groups_community.csv')\n"
   ]
  },
  {
   "cell_type": "markdown",
   "metadata": {},
   "source": [
    "### 1.2.4 Antibiotic consumption per group, in hospitals dataset"
   ]
  },
  {
   "cell_type": "code",
   "execution_count": 76,
   "metadata": {},
   "outputs": [],
   "source": [
    "xls2 = pd.ExcelFile('ESAC_antimicrobial_groups_hospital.xlsx')\n",
    "concatDataFrames(xls2,'esac_antimicrobial_groups_hospital.csv')"
   ]
  }
 ],
 "metadata": {
  "kernelspec": {
   "display_name": "Python 3",
   "language": "python",
   "name": "python3"
  },
  "language_info": {
   "codemirror_mode": {
    "name": "ipython",
    "version": 3
   },
   "file_extension": ".py",
   "mimetype": "text/x-python",
   "name": "python",
   "nbconvert_exporter": "python",
   "pygments_lexer": "ipython3",
   "version": "3.8.3"
  }
 },
 "nbformat": 4,
 "nbformat_minor": 4
}
